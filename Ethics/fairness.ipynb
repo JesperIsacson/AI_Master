{
 "cells": [
  {
   "cell_type": "code",
   "execution_count": 16,
   "metadata": {},
   "outputs": [],
   "source": [
    "from sklearn import tree\n",
    "from sklearn import preprocessing\n",
    "from sklearn.model_selection import train_test_split\n",
    "import pandas as pd\n",
    "from sklearn.metrics import accuracy_score"
   ]
  },
  {
   "cell_type": "code",
   "execution_count": 61,
   "metadata": {},
   "outputs": [
    {
     "name": "stdout",
     "output_type": "stream",
     "text": [
      "0.7484591996055551\n",
      "BIASED\n",
      "Caucasian\n",
      "0.7598469502588341\n",
      "African-American\n",
      "0.7146855756671021\n",
      "Hispanic\n",
      "0.7991803278688525\n",
      "Other\n",
      "0.8263358778625954\n",
      "Asian\n",
      "0.8095238095238095\n",
      "African-Am\n",
      "1.0\n",
      "Native American\n",
      "0.6136363636363636\n",
      "Oriental\n",
      "1.0\n",
      "Arabic\n",
      "0.8888888888888888\n",
      "UNBIASED\n",
      "Caucasian\n",
      "0.7607472428539275\n",
      "African-American\n",
      "0.7098339242395969\n",
      "Hispanic\n",
      "0.7886416861826698\n",
      "Other\n",
      "0.8187022900763359\n",
      "Asian\n",
      "0.8412698412698413\n",
      "African-Am\n",
      "1.0\n",
      "Native American\n",
      "0.7954545454545454\n",
      "Oriental\n",
      "0.8\n",
      "Arabic\n",
      "0.8333333333333334\n"
     ]
    }
   ],
   "source": [
    "dataframe = pd.read_csv(\"compas-scores-raw.csv\")\n",
    "dataframe = dataframe.iloc[:, :-3]\n",
    "\n",
    "dfGroups = dataframe[\"Ethnic_Code_Text\"].unique()\n",
    "\n",
    "le = preprocessing.LabelEncoder()\n",
    "\n",
    "y = dataframe.iloc[:, -3:]\n",
    "y = y.iloc[:, -1:]\n",
    "y[[\"ScoreText\"]] = y[[\"ScoreText\"]].apply(le.fit_transform)\n",
    "x = dataframe.iloc[:, :-3]\n",
    "\n",
    "for i in range(len(dfGroups)):\n",
    "    x.loc[x[\"Ethnic_Code_Text\"] == dfGroups[i], \"Ethnic_Code_Text\"] = i\n",
    "\n",
    "x[[\"Agency_Text\", \"LastName\", \"FirstName\", \"MiddleName\", \"Sex_Code_Text\", \"DateOfBirth\", \"ScaleSet\", \"AssessmentReason\", \"Language\", \"LegalStatus\", \"CustodyStatus\", \"MaritalStatus\", \"Screening_Date\", \"RecSupervisionLevelText\", \"DisplayText\"]] = x[[\"Agency_Text\", \"LastName\", \"FirstName\", \"MiddleName\", \"Sex_Code_Text\", \"DateOfBirth\", \"ScaleSet\", \"AssessmentReason\", \"Language\", \"LegalStatus\", \"CustodyStatus\", \"MaritalStatus\", \"Screening_Date\", \"RecSupervisionLevelText\", \"DisplayText\"]].apply(le.fit_transform)\n",
    "xTrain, xTest, yTrain, yTest = train_test_split(x, y, test_size=0.2, random_state=42)\n",
    "\n",
    "clf = tree.DecisionTreeClassifier()\n",
    "clf = clf.fit(xTrain,yTrain)\n",
    "predictions = clf.predict(xTest)\n",
    "\n",
    "print(accuracy_score(yTest, predictions))\n",
    "print(\"BIASED\")\n",
    "biasedResults = xTest.copy()\n",
    "biasedResults[\"Real\"] = yTest.to_numpy()\n",
    "biasedResults[\"Pred\"] = predictions\n",
    "for i in range(len(dfGroups)):\n",
    "    ethnicGroup = biasedResults[biasedResults[\"Ethnic_Code_Text\"] == i]\n",
    "    print(dfGroups[i])\n",
    "    print(accuracy_score(ethnicGroup[\"Real\"].tolist(), ethnicGroup[\"Pred\"].tolist()))\n",
    "\n",
    "\n",
    "eth = xTest[\"Ethnic_Code_Text\"].tolist()\n",
    "gen = xTest[\"Sex_Code_Text\"].tolist()\n",
    "age = xTest[\"DateOfBirth\"].tolist()\n",
    "\n",
    "xTrain = xTrain.drop([\"Ethnic_Code_Text\", \"Sex_Code_Text\", \"DateOfBirth\"], axis=1)\n",
    "xTest = xTest.drop([\"Ethnic_Code_Text\", \"Sex_Code_Text\", \"DateOfBirth\"], axis=1)\n",
    "\n",
    "clfu = tree.DecisionTreeClassifier()\n",
    "clfu = clfu.fit(xTrain, yTrain)\n",
    "\n",
    "predictionsu = clfu.predict(xTest)\n",
    "\n",
    "print(\"UNBIASED\")\n",
    "xTest[\"Ethnic_Code_Text\"] = eth\n",
    "unResults = xTest.copy()\n",
    "unResults[\"Real\"] = yTest.to_numpy()\n",
    "unResults[\"Pred\"] = predictionsu\n",
    "for i in range(len(dfGroups)):\n",
    "    ethnicGroup = unResults[unResults[\"Ethnic_Code_Text\"] == i]\n",
    "    print(dfGroups[i])\n",
    "    print(accuracy_score(ethnicGroup[\"Real\"].tolist(), ethnicGroup[\"Pred\"].tolist()))"
   ]
  },
  {
   "cell_type": "code",
   "execution_count": 62,
   "metadata": {},
   "outputs": [
    {
     "name": "stdout",
     "output_type": "stream",
     "text": [
      "African-American: 27018\n",
      "Caucasian: 21783\n",
      "Native American: 219\n"
     ]
    }
   ],
   "source": [
    "afr = dataframe[dataframe[\"Ethnic_Code_Text\"] == \"African-American\"].to_numpy()\n",
    "cau = dataframe[dataframe[\"Ethnic_Code_Text\"] == \"Caucasian\"].to_numpy()\n",
    "nat = dataframe[dataframe[\"Ethnic_Code_Text\"] == \"Native American\"].to_numpy()\n",
    "\n",
    "print(\"African-American: \" + str(afr.shape[0]))\n",
    "print(\"Caucasian: \" + str(cau.shape[0]))\n",
    "print(\"Native American: \" + str(nat.shape[0]))\n"
   ]
  }
 ],
 "metadata": {
  "kernelspec": {
   "display_name": "tf_gpu",
   "language": "python",
   "name": "python3"
  },
  "language_info": {
   "codemirror_mode": {
    "name": "ipython",
    "version": 3
   },
   "file_extension": ".py",
   "mimetype": "text/x-python",
   "name": "python",
   "nbconvert_exporter": "python",
   "pygments_lexer": "ipython3",
   "version": "3.9.0"
  },
  "orig_nbformat": 4
 },
 "nbformat": 4,
 "nbformat_minor": 2
}
