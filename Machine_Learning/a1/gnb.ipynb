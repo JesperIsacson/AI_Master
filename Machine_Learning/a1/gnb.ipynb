{
 "cells": [
  {
   "attachments": {},
   "cell_type": "markdown",
   "metadata": {},
   "source": [
    "The chosen naive bayes method for this assignment was the Gaussian Naive Bayes for one reason.\n",
    "Since we are working with continuous variables this was the best choice since the mathematical formula allows for such variables."
   ]
  },
  {
   "cell_type": "code",
   "execution_count": 1,
   "metadata": {},
   "outputs": [],
   "source": [
    "import numpy as np\n",
    "import pandas as pd\n",
    "from matplotlib import pyplot as plt"
   ]
  },
  {
   "cell_type": "code",
   "execution_count": 2,
   "metadata": {},
   "outputs": [],
   "source": [
    "#Read the iris dataset and remove frist row (r,r,r,r,n)\n",
    "dataset = pd.read_csv(\"iris.tmls\")\n",
    "dataset = dataset.drop([0, 0])"
   ]
  },
  {
   "cell_type": "code",
   "execution_count": 3,
   "metadata": {},
   "outputs": [],
   "source": [
    "def getPriorProbability(trainingData):\n",
    "    strains = trainingData[\"class\"].unique()\n",
    "    columnNames = trainingData.columns.tolist()\n",
    "    result = {}\n",
    "\n",
    "    #Calculates prior probabilities for each strain in the training dataset\n",
    "    for strain in strains:\n",
    "        preProb = len(trainingData[trainingData[\"class\"] == strain]) / trainingData.shape[0]\n",
    "        result[strain] = preProb\n",
    "    return result"
   ]
  },
  {
   "cell_type": "code",
   "execution_count": 40,
   "metadata": {},
   "outputs": [],
   "source": [
    "def getPosteriorProbability(dataframe, strain, columnValue, columnName):\n",
    "    #Remove the nominal class containing flower strains for colculation\n",
    "    dataframe = dataframe[dataframe[\"class\"] == strain]\n",
    "\n",
    "    #Get the mean, standard deviation, and variance\n",
    "    mean = dataframe[columnName].astype(float).mean()\n",
    "    standardDeviation = dataframe[columnName].astype(float).std()\n",
    "    variance = np.power(standardDeviation, 2)\n",
    "\n",
    "    #Gaussian Naive Bayes Formnula (https://iq.opengenus.org/content/images/2020/02/Screenshot_6.jpg)\n",
    "    return 1/(np.sqrt(2*np.pi*variance))*np.exp(-(np.power(columnValue-mean, 2)/(2*variance)))\n"
   ]
  },
  {
   "cell_type": "code",
   "execution_count": 32,
   "metadata": {},
   "outputs": [],
   "source": [
    "def gaussianNaiveBayes(trainingData, testData):\n",
    "    priorProbabilities = getPriorProbability(trainingData)\n",
    "    columnNames = testData.columns.tolist()\n",
    "    columnNames.pop()\n",
    "    strains = testData[\"class\"].unique()\n",
    "    predictions = []\n",
    "\n",
    "    #Work with one row at the time from the test set\n",
    "    for i in range(len(testData)):\n",
    "        dataRow = testData.iloc[[i]]\n",
    "        \n",
    "        bestScore = -np.inf\n",
    "        predictedStrain = \"\"\n",
    "\n",
    "        #Check the posterior probability for both strains of flower to check which one is the likleliest depending on the gaussian naive bayes score\n",
    "        for strain in strains:\n",
    "            score = priorProbabilities.get(strain)\n",
    "            for columnName in columnNames:\n",
    "                value = float(dataRow.iloc[-1][columnName])\n",
    "                score *= getPosteriorProbability(trainingData, strain, value, columnName)\n",
    "            if(score > bestScore):\n",
    "                bestScore = score\n",
    "                predictedStrain = strain\n",
    "        predictions.append({\"strain\": predictedStrain, \"score\": bestScore})\n",
    "    \n",
    "    #Return all the predictions alongside its score and also which strains where used this time around\n",
    "    return predictions, strains\n",
    "\n",
    "\n",
    "                 "
   ]
  },
  {
   "cell_type": "code",
   "execution_count": 7,
   "metadata": {},
   "outputs": [],
   "source": [
    "def dataPreperation(dataframe, testIndex, kVal):\n",
    "    #Shuffle the dataframe and reset its indexes\n",
    "    dataframe = dataframe.sample(frac=1)\n",
    "    dataframe = dataframe.reset_index(drop=True)\n",
    "\n",
    "    #Split the dataframe into k blocks\n",
    "    blocks = np.array_split(dataframe, kVal)\n",
    "    \n",
    "    testData = blocks[testIndex]\n",
    "    del blocks[testIndex]\n",
    "    trainingData = pd.concat(blocks)\n",
    "    \n",
    "    return trainingData, testData\n"
   ]
  },
  {
   "cell_type": "code",
   "execution_count": 28,
   "metadata": {},
   "outputs": [],
   "source": [
    "def falseAndTruePositives(threshold, predictedStrains, predictedScores, usedStrains):\n",
    "    positiveVal = usedStrains[0]\n",
    "    #Count how many times one index is predicted, here we use the first strain as possitive and the other as negative\n",
    "    positives = 0\n",
    "    for ps in predictedStrains:\n",
    "        if ps == positiveVal:\n",
    "            positives += 1\n",
    "    negatives = 10 - positives\n",
    "\n",
    "    tfpr = []\n",
    "\n",
    "    #Iterate every threshold and count true/false positives\n",
    "    for th in threshold:\n",
    "        tp = 0\n",
    "        fp = 0\n",
    "        for i in range(len(predictedScores)):\n",
    "            if(th < predictedScores[i]):\n",
    "                if(predictedStrains[i] == usedStrains[0]):\n",
    "                    tp += 1\n",
    "                else:\n",
    "                    fp += 1\n",
    "\n",
    "        #Divide corresponding positives with number of positives and negatives to get true and false positve rates.\n",
    "        tfpr.append([tp/positives, fp/negatives])\n",
    "\n",
    "    return tfpr"
   ]
  },
  {
   "cell_type": "code",
   "execution_count": null,
   "metadata": {},
   "outputs": [],
   "source": [
    "#k-fold value, 10 for this assignment\n",
    "kVal = 10\n",
    "\n",
    "classes = dataset[\"class\"].unique()\n",
    "\n",
    "for cl in classes:\n",
    "    #Remove one of the strains from this iteration\n",
    "    dataframe = dataset[dataset[\"class\"] != cl]\n",
    "    dataframe = dataframe.reset_index(drop=True)\n",
    "\n",
    "    acc = 0\n",
    "    rocPoints = [[0.0, 0.0]] * 1000\n",
    "\n",
    "    for i in range(kVal):\n",
    "        #Get the training and test data, changes every iteration\n",
    "        trainingData, testData = dataPreperation(dataframe, i, kVal)\n",
    "\n",
    "        #Get the predictions(classification and score) alongside which strain were used this iteration\n",
    "        predictions, usedStrains = gaussianNaiveBayes(trainingData, testData)\n",
    "\n",
    "        predictionScores = []\n",
    "        predictionStrains = []\n",
    "\n",
    "        for prediction in predictions:\n",
    "            predictionScores.append(prediction.get(\"score\"))\n",
    "            predictionStrains.append(prediction.get(\"strain\"))\n",
    "\n",
    "        actualStrains = testData[\"class\"].tolist()\n",
    "\n",
    "        #Count how many classifications were correct, add to accuracy\n",
    "        for j in range(len(actualStrains)):\n",
    "            if actualStrains[j] == predictionStrains[j]:\n",
    "                acc += 1\n",
    "\n",
    "        #add thresholds from a point where everything is counted as negative, to a point where everything is counted as a positive\n",
    "        threshold = np.linspace(-0.1, np.max(predictionScores), 1000)\n",
    "\n",
    "        #get the true and false positive rates\n",
    "        tfpr = falseAndTruePositives(threshold, predictionStrains, predictionScores, usedStrains)\n",
    "\n",
    "        #sum upp all the value pairs from all the splits\n",
    "        rocPoints = [[sum(pair) for pair in zip(*pairs)] for pairs in zip(rocPoints, tfpr)]\n",
    "\n",
    "    #get the mean value for each label runned, round up to only two decimals\n",
    "    rocPoints = [[item / 10 for item in subl] for subl in rocPoints]\n",
    "    roc_tempDF = (pd.DataFrame(rocPoints, columns = [\"tpr\",\"fpr\"]))\n",
    "\n",
    "    print(usedStrains) \n",
    "\n",
    "    #calculate AUC\n",
    "    auc = np.trapz(roc_tempDF.tpr, roc_tempDF.fpr).round(3)\n",
    "\n",
    "    #Create the ROC curve\n",
    "    plt.plot(roc_tempDF.tpr, roc_tempDF.fpr)\n",
    "    plt.plot([0, 1])\n",
    "\n",
    "    print(\"AUC = \" + str(-auc) + \", Acc = \" + str(acc/100))\n",
    "    plt.show()\n",
    "\n",
    "\n",
    "        "
   ]
  }
 ],
 "metadata": {
  "kernelspec": {
   "display_name": "Python 3",
   "language": "python",
   "name": "python3"
  },
  "language_info": {
   "codemirror_mode": {
    "name": "ipython",
    "version": 3
   },
   "file_extension": ".py",
   "mimetype": "text/x-python",
   "name": "python",
   "nbconvert_exporter": "python",
   "pygments_lexer": "ipython3",
   "version": "3.8.10"
  },
  "orig_nbformat": 4,
  "vscode": {
   "interpreter": {
    "hash": "70fde83b5c78c5687869d5652313b7538374702442103e8748f530dd0f79577e"
   }
  }
 },
 "nbformat": 4,
 "nbformat_minor": 2
}
